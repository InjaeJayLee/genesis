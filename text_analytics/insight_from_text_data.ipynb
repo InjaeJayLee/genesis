{
 "cells": [
  {
   "cell_type": "markdown",
   "id": "5ecf6453-03b4-4685-988b-c8e09b6b23d2",
   "metadata": {},
   "source": [
    "## 빈도분석"
   ]
  },
  {
   "cell_type": "code",
   "execution_count": 4,
   "id": "8ba6717f-e4d7-4a10-9408-e68bf3ba3455",
   "metadata": {},
   "outputs": [],
   "source": [
    "import pandas as pd"
   ]
  },
  {
   "cell_type": "code",
   "execution_count": 15,
   "id": "8eb1f057-37fc-46fc-967e-15361c2f6635",
   "metadata": {},
   "outputs": [
    {
     "data": {
      "text/html": [
       "<div>\n",
       "<style scoped>\n",
       "    .dataframe tbody tr th:only-of-type {\n",
       "        vertical-align: middle;\n",
       "    }\n",
       "\n",
       "    .dataframe tbody tr th {\n",
       "        vertical-align: top;\n",
       "    }\n",
       "\n",
       "    .dataframe thead th {\n",
       "        text-align: right;\n",
       "    }\n",
       "</style>\n",
       "<table border=\"1\" class=\"dataframe\">\n",
       "  <thead>\n",
       "    <tr style=\"text-align: right;\">\n",
       "      <th></th>\n",
       "      <th>session</th>\n",
       "      <th>year</th>\n",
       "      <th>country</th>\n",
       "      <th>country_name</th>\n",
       "      <th>speaker</th>\n",
       "      <th>position</th>\n",
       "      <th>text</th>\n",
       "    </tr>\n",
       "  </thead>\n",
       "  <tbody>\n",
       "    <tr>\n",
       "      <th>4677</th>\n",
       "      <td>56</td>\n",
       "      <td>2001</td>\n",
       "      <td>CUB</td>\n",
       "      <td>Cuba</td>\n",
       "      <td>Felipe Pérez Roque</td>\n",
       "      <td>Minister for Foreign Affairs</td>\n",
       "      <td>﻿Before delivering my statement, I would like ...</td>\n",
       "    </tr>\n",
       "    <tr>\n",
       "      <th>3462</th>\n",
       "      <td>49</td>\n",
       "      <td>1994</td>\n",
       "      <td>HRV</td>\n",
       "      <td>Croatia</td>\n",
       "      <td>Mr. Franjo Tudjman</td>\n",
       "      <td>President</td>\n",
       "      <td>It is my\\nparticular privilege and pleasure to...</td>\n",
       "    </tr>\n",
       "  </tbody>\n",
       "</table>\n",
       "</div>"
      ],
      "text/plain": [
       "      session  year country country_name             speaker  \\\n",
       "4677       56  2001     CUB         Cuba  Felipe Pérez Roque   \n",
       "3462       49  1994     HRV      Croatia  Mr. Franjo Tudjman   \n",
       "\n",
       "                          position  \\\n",
       "4677  Minister for Foreign Affairs   \n",
       "3462                     President   \n",
       "\n",
       "                                                   text  \n",
       "4677  ﻿Before delivering my statement, I would like ...  \n",
       "3462  It is my\\nparticular privilege and pleasure to...  "
      ]
     },
     "execution_count": 15,
     "metadata": {},
     "output_type": "execute_result"
    }
   ],
   "source": [
    "file = \"./data/un-general-debates/un-general-debates-blueprint.csv\"\n",
    "df = pd.read_csv(file)\n",
    "df.sample(2)"
   ]
  },
  {
   "cell_type": "code",
   "execution_count": null,
   "id": "8fa15ae3-53a8-4f41-b477-6e83ab5397bb",
   "metadata": {},
   "outputs": [],
   "source": []
  }
 ],
 "metadata": {
  "kernelspec": {
   "display_name": "Python 3 (ipykernel)",
   "language": "python",
   "name": "python3"
  },
  "language_info": {
   "codemirror_mode": {
    "name": "ipython",
    "version": 3
   },
   "file_extension": ".py",
   "mimetype": "text/x-python",
   "name": "python",
   "nbconvert_exporter": "python",
   "pygments_lexer": "ipython3",
   "version": "3.8.10"
  }
 },
 "nbformat": 4,
 "nbformat_minor": 5
}
