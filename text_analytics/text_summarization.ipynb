{
 "cells": [
  {
   "cell_type": "code",
   "execution_count": 1,
   "id": "34adbb2c-493b-487b-a91d-0037c0f40f2e",
   "metadata": {},
   "outputs": [],
   "source": [
    "import reprlib\n",
    "from sklearn.feature_extraction.text import TfidfVectorizer\n",
    "from nltk import tokenize\n",
    "import matplotlib.pyplot as plt\n",
    "import html\n",
    "import re\n",
    "import random\n",
    "import requests\n",
    "from bs4 import BeautifulSoup\n",
    "import os.path\n",
    "from dateutil import parser\n",
    "import pandas as pd\n",
    "import numpy as np\n",
    "from rouge_score import rouge_scorer\n",
    "import rouge_score"
   ]
  },
  {
   "cell_type": "code",
   "execution_count": 2,
   "id": "46cedda9-d1c6-4b24-9dab-a2d788f7d389",
   "metadata": {},
   "outputs": [],
   "source": [
    "def download_article(url):\n",
    "    # check if article already there\n",
    "    filename = url.split(\"/\")[-1] + \".html\"\n",
    "    filename = f\"./data/{filename}\"\n",
    "    if not os.path.isfile(filename):\n",
    "        r = requests.get(url)\n",
    "        with open(filename, \"w+\") as f:\n",
    "            f.write(r.text)\n",
    "    return filename"
   ]
  },
  {
   "cell_type": "code",
   "execution_count": 3,
   "id": "ec7c64ed-a887-46e3-8cfd-b4385218640c",
   "metadata": {},
   "outputs": [],
   "source": [
    "def parse_article(article_file):\n",
    "    with open(article_file, \"r\", encoding='UTF8') as f:\n",
    "        html = f.read()\n",
    "    r = {}\n",
    "    soup = BeautifulSoup(html, 'html.parser')\n",
    "    r['id'] = soup.select_one(\"div.StandardArticle_inner-container\")['id']\n",
    "    r['url'] = soup.find(\"link\", {'rel': 'canonical'})['href']\n",
    "    r['headline'] = soup.h1.text\n",
    "    r['section'] = soup.select_one(\"div.ArticleHeader_channel a\").text\n",
    "    \n",
    "    r['text'] = soup.select_one(\"div.StandardArticleBody_body\").text\n",
    "    r['authors'] = [a.text \n",
    "                    for a in soup.select(\"div.BylineBar_first-container.ArticleHeader_byline-bar\\\n",
    "                                          div.BylineBar_byline span\")]\n",
    "    r['time'] = soup.find(\"meta\", { 'property': \"og:article:published_time\"})['content']\n",
    "    return r"
   ]
  },
  {
   "cell_type": "code",
   "execution_count": 4,
   "id": "487b89e3-8c03-4047-93d7-08820b4b3cfc",
   "metadata": {},
   "outputs": [
    {
     "name": "stdout",
     "output_type": "stream",
     "text": [
      "Article Published on '2018-03-15T11:36:28+0000'\n",
      "'LONDON/SAN FRANCISCO (Reuters) - U.S. President Donald Trump has blocked microchip maker Broadcom Ltd’s (AVGO.O) $117 billion takeover of rival Qualcomm (QCOM.O) amid concerns that it would give China the upper hand in the next generation of mobile communications, or 5G. A 5G sign is seen at the Mobile World Congress in Barcelona, Spain February 28, 2018. REUTERS/Yves HermanBelow are some facts... 4G wireless and looks set to top the list of patent holders heading into the 5G cycle. Huawei, Nokia, Ericsson and others are also vying to amass 5G patents, which has helped spur complex cross-licensing agreements like the deal struck late last year Nokia and Huawei around handsets. Editing by Kim Miyoung in Singapore and Jason Neely in LondonOur Standards:The Thomson Reuters Trust Principles.'\n"
     ]
    }
   ],
   "source": [
    "r = reprlib.Repr()\n",
    "r.maxstring = 800\n",
    "\n",
    "url1 = \"https://www.reuters.com/article/us-qualcomm-m-a-broadcom-5g/what-is-5g-and-who-are-the-major-players-idUSKCN1GR1IN\"\n",
    "article_name1 = download_article(url1)\n",
    "article1 = parse_article(article_name1)\n",
    "print ('Article Published on', r.repr(article1['time']))\n",
    "print (r.repr(article1['text'])) "
   ]
  },
  {
   "cell_type": "markdown",
   "id": "4d1db42e-9fc1-4d3b-b9a1-04c2e1aae614",
   "metadata": {},
   "source": [
    "<br>\n",
    "\n",
    "## 주제 표현을 이용한 텍스트 요약"
   ]
  },
  {
   "cell_type": "markdown",
   "id": "fbe62afd-647d-4c38-b1e1-bd20f3138d21",
   "metadata": {},
   "source": [
    "<br>\n",
    "\n",
    "### TF-IDF 값으로 중요한 단어 식별"
   ]
  },
  {
   "cell_type": "code",
   "execution_count": 5,
   "id": "c28a5737-87e4-441f-acbd-c740a67d39e1",
   "metadata": {},
   "outputs": [],
   "source": [
    "from sklearn.feature_extraction.text import TfidfVectorizer\n",
    "from nltk import tokenize\n",
    "\n",
    "sentences = tokenize.sent_tokenize(article1['text'])\n",
    "tfidfVectorizer = TfidfVectorizer()\n",
    "words_tfidf = tfidfVectorizer.fit_transform(sentences)"
   ]
  },
  {
   "cell_type": "code",
   "execution_count": 6,
   "id": "e16bd561-e7e3-452d-9cff-9064091e3d9c",
   "metadata": {},
   "outputs": [
    {
     "name": "stdout",
     "output_type": "stream",
     "text": [
      "LONDON/SAN FRANCISCO (Reuters) - U.S. President Donald Trump has blocked microchip maker Broadcom Ltd’s (AVGO.O) $117 billion takeover of rival Qualcomm (QCOM.O) amid concerns that it would give China the upper hand in the next generation of mobile communications, or 5G.\n",
      "5G networks, now in the final testing stage, will rely on denser arrays of small antennas and the cloud to offer data speeds up to 50 or 100 times faster than current 4G networks and serve as critical infrastructure for a range of industries.\n",
      "The concern is that a takeover by Singapore-based Broadcom could see the firm cut research and development spending by Qualcomm or hive off strategically important parts of the company to other buyers, including in China, U.S. officials and analysts have said.\n"
     ]
    }
   ],
   "source": [
    "# Parameter to specify number of summary sentences required\n",
    "num_summary_sentence = 3\n",
    "\n",
    "# Sort the sentences in descending order by the sum of TF-IDF values\n",
    "sent_sum = words_tfidf.sum(axis=1)\n",
    "important_sent = np.argsort(sent_sum, axis=0)[::-1]\n",
    "\n",
    "# Print three most important sentences in the order they appear in the article\n",
    "for i in range(0, len(sentences)):\n",
    "    if i in important_sent[:num_summary_sentence]:\n",
    "        print (sentences[i])"
   ]
  },
  {
   "cell_type": "code",
   "execution_count": 7,
   "id": "f638d7ed-ef00-4b29-9e58-6b1ed66d0086",
   "metadata": {},
   "outputs": [],
   "source": [
    "from sklearn.feature_extraction.text import TfidfVectorizer\n",
    "from nltk import tokenize\n",
    "\n",
    "def tfidf_summary(text, num_summary_sentence):\n",
    "    summary_sentence = []\n",
    "    sentences = tokenize.sent_tokenize(text)\n",
    "    tfidfVectorizer = TfidfVectorizer()\n",
    "    words_tfidf = tfidfVectorizer.fit_transform(sentences)\n",
    "    sentence_sum = words_tfidf.sum(axis=1)\n",
    "    important_sentences = np.argsort(sentence_sum, axis=0)[::-1]\n",
    "    for i in range(0, len(sentences)):\n",
    "        if i in important_sentences[:num_summary_sentence]:\n",
    "            summary_sentence.append(sentences[i])\n",
    "    return summary_sentence"
   ]
  },
  {
   "cell_type": "markdown",
   "id": "d22851e9-e9b2-4d81-8ee6-1c7d38b0244a",
   "metadata": {},
   "source": [
    "<br>\n",
    "\n",
    "### LSA 알고리즘"
   ]
  },
  {
   "cell_type": "code",
   "execution_count": 8,
   "id": "d54be8f3-efed-4a55-ac76-f4f78e20d1b4",
   "metadata": {},
   "outputs": [
    {
     "name": "stdout",
     "output_type": "stream",
     "text": [
      "LONDON/SAN FRANCISCO (Reuters) - U.S. President Donald Trump has blocked microchip maker Broadcom Ltd’s (AVGO.O) $117 billion takeover of rival Qualcomm (QCOM.O) amid concerns that it would give China the upper hand in the next generation of mobile communications, or 5G.\n",
      "Moving to new networks promises to enable new mobile services and even whole new business models, but could pose challenges for countries and industries unprepared to invest in the transition.\n",
      "The concern is that a takeover by Singapore-based Broadcom could see the firm cut research and development spending by Qualcomm or hive off strategically important parts of the company to other buyers, including in China, U.S. officials and analysts have said.\n"
     ]
    }
   ],
   "source": [
    "from sumy.parsers.plaintext import PlaintextParser\n",
    "from sumy.nlp.tokenizers import Tokenizer\n",
    "from sumy.nlp.stemmers import Stemmer\n",
    "from sumy.utils import get_stop_words\n",
    "\n",
    "from sumy.summarizers.lsa import LsaSummarizer\n",
    "\n",
    "LANGUAGE = \"english\"\n",
    "stemmer = Stemmer(LANGUAGE)\n",
    "\n",
    "parser = PlaintextParser.from_string(article1['text'], Tokenizer(LANGUAGE))\n",
    "summarizer = LsaSummarizer(stemmer)\n",
    "summarizer.stop_words = get_stop_words(LANGUAGE)\n",
    "\n",
    "for sentence in summarizer(parser.document, num_summary_sentence):\n",
    "    print (str(sentence))"
   ]
  },
  {
   "cell_type": "code",
   "execution_count": 9,
   "id": "3056b01f-ce70-4892-80eb-4c69da82c829",
   "metadata": {},
   "outputs": [],
   "source": [
    "def lsa_summary(text, num_summary_sentence):\n",
    "    summary_sentence = []\n",
    "    LANGUAGE = \"english\"\n",
    "    stemmer = Stemmer(LANGUAGE)\n",
    "    parser = PlaintextParser.from_string(text, Tokenizer(LANGUAGE))\n",
    "    summarizer = LsaSummarizer(stemmer)\n",
    "    summarizer.stop_words = get_stop_words(LANGUAGE)\n",
    "    for sentence in summarizer(parser.document, num_summary_sentence):\n",
    "        summary_sentence.append(str(sentence))\n",
    "    return summary_sentence"
   ]
  },
  {
   "cell_type": "code",
   "execution_count": 10,
   "id": "f3100207-28f5-4d59-ab1a-d4090e74bb26",
   "metadata": {},
   "outputs": [
    {
     "name": "stdout",
     "output_type": "stream",
     "text": [
      "LONDON/SAN FRANCISCO (Reuters) - U.S. President Donald Trump has blocked microchip maker Broadcom Ltd’s (AVGO.O) $117 billion takeover of rival Qualcomm (QCOM.O) amid concerns that it would give China the upper hand in the next generation of mobile communications, or 5G.\n",
      "5G networks, now in the final testing stage, will rely on denser arrays of small antennas and the cloud to offer data speeds up to 50 or 100 times faster than current 4G networks and serve as critical infrastructure for a range of industries.\n",
      "The concern is that a takeover by Singapore-based Broadcom could see the firm cut research and development spending by Qualcomm or hive off strategically important parts of the company to other buyers, including in China, U.S. officials and analysts have said.\n"
     ]
    }
   ],
   "source": [
    "summary_sentence = tfidf_summary(article1['text'], num_summary_sentence)\n",
    "for sentence in summary_sentence:\n",
    "    print (sentence)"
   ]
  },
  {
   "cell_type": "code",
   "execution_count": 11,
   "id": "5e43822a-facc-4ccd-8cfb-e8d173c33e5b",
   "metadata": {},
   "outputs": [
    {
     "name": "stdout",
     "output_type": "stream",
     "text": [
      "LONDON/SAN FRANCISCO (Reuters) - U.S. President Donald Trump has blocked microchip maker Broadcom Ltd’s (AVGO.O) $117 billion takeover of rival Qualcomm (QCOM.O) amid concerns that it would give China the upper hand in the next generation of mobile communications, or 5G.\n",
      "Moving to new networks promises to enable new mobile services and even whole new business models, but could pose challenges for countries and industries unprepared to invest in the transition.\n",
      "The concern is that a takeover by Singapore-based Broadcom could see the firm cut research and development spending by Qualcomm or hive off strategically important parts of the company to other buyers, including in China, U.S. officials and analysts have said.\n"
     ]
    }
   ],
   "source": [
    "summary_sentence = lsa_summary(article1['text'], num_summary_sentence)\n",
    "for sentence in summary_sentence:\n",
    "    print (sentence)"
   ]
  },
  {
   "cell_type": "markdown",
   "id": "3a24acfa-44d5-49fb-8095-57b960ea11ef",
   "metadata": {},
   "source": [
    "<br>\n",
    "\n",
    "## Indicator Representation을 이용한 텍스트 요약"
   ]
  },
  {
   "cell_type": "code",
   "execution_count": 12,
   "id": "7ce9300e-5c15-4b0e-995e-aa48958c2ac4",
   "metadata": {},
   "outputs": [
    {
     "name": "stdout",
     "output_type": "stream",
     "text": [
      "Acquiring Qualcomm would represent the jewel in the crown of Broadcom’s portfolio of communications chips, which supply wi-fi, power management, video and other features in smartphones alongside Qualcomm’s core baseband chips - radio modems that wirelessly connect phones to networks.\n",
      "Qualcomm (QCOM.O) is the dominant player in smartphone communications chips, making half of all core baseband radio chips in smartphones.\n",
      "Slideshow (2 Images)The standards are set by a global body to ensure all phones work across different mobile networks, and whoever’s essential patents end up making it into the standard stands to reap huge royalty licensing revenue streams.\n"
     ]
    }
   ],
   "source": [
    "from sumy.summarizers.text_rank import TextRankSummarizer\n",
    "\n",
    "parser = PlaintextParser.from_string(article1['text'], Tokenizer(LANGUAGE))\n",
    "summarizer = TextRankSummarizer(stemmer)\n",
    "summarizer.stop_words = get_stop_words(LANGUAGE)\n",
    "\n",
    "for sentence in summarizer(parser.document, num_summary_sentence):\n",
    "    print (str(sentence))"
   ]
  },
  {
   "cell_type": "code",
   "execution_count": 13,
   "id": "72b151a6-70f1-4d61-bfd9-0d063d191035",
   "metadata": {},
   "outputs": [],
   "source": [
    "def textrank_summary(text, num_summary_sentence):\n",
    "    summary_sentence = []\n",
    "    LANGUAGE = \"english\"\n",
    "    stemmer = Stemmer(LANGUAGE)\n",
    "    parser = PlaintextParser.from_string(text, Tokenizer(LANGUAGE))\n",
    "    summarizer = TextRankSummarizer(stemmer)\n",
    "    summarizer.stop_words = get_stop_words(LANGUAGE)\n",
    "    for sentence in summarizer(parser.document, num_summary_sentence):\n",
    "        summary_sentence.append(str(sentence))\n",
    "    return summary_sentence"
   ]
  },
  {
   "cell_type": "markdown",
   "id": "91ab3032-20fa-42fd-a619-08aaa50ec2b0",
   "metadata": {},
   "source": [
    "<br>\n",
    "\n",
    "## 텍스트 요약 방법의 성능 측정"
   ]
  },
  {
   "cell_type": "code",
   "execution_count": 14,
   "id": "51d414d5-bec4-4d50-a805-a7af601d6a6b",
   "metadata": {},
   "outputs": [],
   "source": [
    "def print_rouge_score(rouge_score):\n",
    "    for k,v in rouge_score.items():\n",
    "        print (k, 'Precision:', \"{:.2f}\".format(v.precision), 'Recall:', \"{:.2f}\".format(v.recall), 'fmeasure:', \"{:.2f}\".format(v.fmeasure))"
   ]
  },
  {
   "cell_type": "code",
   "execution_count": 15,
   "id": "39ebe423-1acd-4649-afac-8ccdfb6903c4",
   "metadata": {},
   "outputs": [
    {
     "name": "stdout",
     "output_type": "stream",
     "text": [
      "rouge1 Precision: 0.05 Recall: 0.56 fmeasure: 0.09\n"
     ]
    }
   ],
   "source": [
    "num_summary_sentence = 3 ##\n",
    "gold_standard = article1['headline']\n",
    "summary = \"\"\n",
    "\n",
    "summary = ''.join(textrank_summary(article1['text'], num_summary_sentence))\n",
    "scorer = rouge_scorer.RougeScorer(['rouge1'], use_stemmer=True)\n",
    "scores = scorer.score(gold_standard, summary)\n",
    "print_rouge_score(scores)"
   ]
  },
  {
   "cell_type": "code",
   "execution_count": 16,
   "id": "b33222ec-7aae-48b0-86e9-b06b581f5b48",
   "metadata": {},
   "outputs": [
    {
     "name": "stdout",
     "output_type": "stream",
     "text": [
      "rouge1 Precision: 0.03 Recall: 0.44 fmeasure: 0.06\n"
     ]
    }
   ],
   "source": [
    "summary = ''.join(lsa_summary(article1['text'], num_summary_sentence))\n",
    "scores = scorer.score(gold_standard, summary)\n",
    "print_rouge_score(scores)"
   ]
  }
 ],
 "metadata": {
  "kernelspec": {
   "display_name": "Python 3 (ipykernel)",
   "language": "python",
   "name": "python3"
  },
  "language_info": {
   "codemirror_mode": {
    "name": "ipython",
    "version": 3
   },
   "file_extension": ".py",
   "mimetype": "text/x-python",
   "name": "python",
   "nbconvert_exporter": "python",
   "pygments_lexer": "ipython3",
   "version": "3.8.10"
  }
 },
 "nbformat": 4,
 "nbformat_minor": 5
}
